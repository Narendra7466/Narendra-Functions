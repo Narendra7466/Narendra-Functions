{
  "nbformat": 4,
  "nbformat_minor": 0,
  "metadata": {
    "colab": {
      "provenance": [],
      "toc_visible": true
    },
    "kernelspec": {
      "name": "python3",
      "display_name": "Python 3"
    },
    "language_info": {
      "name": "python"
    }
  },
  "cells": [
    {
      "cell_type": "code",
      "execution_count": null,
      "metadata": {
        "id": "86aVZtSbUJL2"
      },
      "outputs": [],
      "source": []
    },
    {
      "cell_type": "markdown",
      "source": [
        "Narendra function"
      ],
      "metadata": {
        "id": "DxcWfrPPUgIs"
      }
    },
    {
      "cell_type": "markdown",
      "source": [
        "1.What is the difference between a function and a method in python?\n",
        "  - a function is independent and can be called from anywhere, while a method is tried to a class or object and must be called on that object or within that class.\n",
        "2.second question\n",
        "- this is answer for second question"
      ],
      "metadata": {
        "id": "lvuFyOPvVDEN"
      }
    },
    {
      "cell_type": "code",
      "source": [],
      "metadata": {
        "id": "rkbNH2bJYLti"
      },
      "execution_count": null,
      "outputs": []
    },
    {
      "cell_type": "code",
      "source": [
        "# question\n",
        "# question\n",
        "'''\n",
        "this is answer\n",
        "'''\n",
        "\"\"\"\n",
        "this answer\n",
        "\"\"\"\n"
      ],
      "metadata": {
        "colab": {
          "base_uri": "https://localhost:8080/",
          "height": 106
        },
        "id": "7-2qUA-XXsgj",
        "outputId": "22c9eee6-4e2d-422a-d314-96170a237c62"
      },
      "execution_count": 1,
      "outputs": [
        {
          "output_type": "error",
          "ename": "SyntaxError",
          "evalue": "invalid syntax (<ipython-input-1-3db8bc4e753d>, line 4)",
          "traceback": [
            "\u001b[0;36m  File \u001b[0;32m\"<ipython-input-1-3db8bc4e753d>\"\u001b[0;36m, line \u001b[0;32m4\u001b[0m\n\u001b[0;31m    ***\u001b[0m\n\u001b[0m    ^\u001b[0m\n\u001b[0;31mSyntaxError\u001b[0m\u001b[0;31m:\u001b[0m invalid syntax\n"
          ]
        }
      ]
    }
  ]
}